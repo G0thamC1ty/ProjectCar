{
  "nbformat": 4,
  "nbformat_minor": 0,
  "metadata": {
    "colab": {
      "provenance": [],
      "authorship_tag": "ABX9TyNMD0pnTIFZwTGPXW4KVPM6",
      "include_colab_link": true
    },
    "kernelspec": {
      "name": "python3",
      "display_name": "Python 3"
    },
    "language_info": {
      "name": "python"
    }
  },
  "cells": [
    {
      "cell_type": "markdown",
      "metadata": {
        "id": "view-in-github",
        "colab_type": "text"
      },
      "source": [
        "<a href=\"https://colab.research.google.com/github/G0thamC1ty/ProjectCar/blob/main/ProjectCar.ipynb\" target=\"_parent\"><img src=\"https://colab.research.google.com/assets/colab-badge.svg\" alt=\"Open In Colab\"/></a>"
      ]
    },
    {
      "cell_type": "code",
      "execution_count": 17,
      "metadata": {
        "colab": {
          "base_uri": "https://localhost:8080/"
        },
        "id": "SUcI-7DWd0Nq",
        "outputId": "175071db-e200-4aca-a278-ff8e67f4135c"
      },
      "outputs": [
        {
          "output_type": "stream",
          "name": "stdout",
          "text": [
            "4.12.0\n",
            "Cloning into 'ProjectCar'...\n",
            "Host key verification failed.\n",
            "fatal: Could not read from remote repository.\n",
            "\n",
            "Please make sure you have the correct access rights\n",
            "and the repository exists.\n"
          ]
        }
      ],
      "source": [
        "import cv2\n",
        "print(cv2.__version__)\n",
        "!git clone git@github.com:G0thamC1ty/ProjectCar.git"
      ]
    },
    {
      "cell_type": "markdown",
      "source": [
        "For hardware accelerator use a GPU to train your DATA but when running your model you have to adjust it according to the Microcontroller and Camera."
      ],
      "metadata": {
        "id": "k_KQS_6kfqgM"
      }
    }
  ]
}